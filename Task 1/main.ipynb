{
 "cells": [
  {
   "cell_type": "markdown",
   "metadata": {},
   "source": [
    "# 星火大模型驱动阅读理解题库构建挑战赛baseline01"
   ]
  },
  {
   "cell_type": "markdown",
   "metadata": {},
   "source": [
    "##  1.数据处理"
   ]
  },
  {
   "cell_type": "markdown",
   "metadata": {},
   "source": [
    "### 1.1 语文问答数据制作"
   ]
  },
  {
   "cell_type": "code",
   "execution_count": 1,
   "metadata": {
    "scrolled": true
   },
   "outputs": [
    {
     "name": "stdout",
     "output_type": "stream",
     "text": [
      "Looking in indexes: https://mirror.baidu.com/pypi/simple/, https://mirrors.aliyun.com/pypi/simple/\n",
      "Requirement already satisfied: pandas in /opt/conda/envs/python35-paddle120-env/lib/python3.10/site-packages (2.2.2)\n",
      "Requirement already satisfied: openpyxl in /opt/conda/envs/python35-paddle120-env/lib/python3.10/site-packages (3.1.5)\n",
      "Requirement already satisfied: numpy>=1.22.4 in /opt/conda/envs/python35-paddle120-env/lib/python3.10/site-packages (from pandas) (1.26.4)\n",
      "Requirement already satisfied: python-dateutil>=2.8.2 in /opt/conda/envs/python35-paddle120-env/lib/python3.10/site-packages (from pandas) (2.9.0.post0)\n",
      "Requirement already satisfied: pytz>=2020.1 in /opt/conda/envs/python35-paddle120-env/lib/python3.10/site-packages (from pandas) (2024.1)\n",
      "Requirement already satisfied: tzdata>=2022.7 in /opt/conda/envs/python35-paddle120-env/lib/python3.10/site-packages (from pandas) (2024.1)\n",
      "Requirement already satisfied: et-xmlfile in /opt/conda/envs/python35-paddle120-env/lib/python3.10/site-packages (from openpyxl) (1.1.0)\n",
      "Requirement already satisfied: six>=1.5 in /opt/conda/envs/python35-paddle120-env/lib/python3.10/site-packages (from python-dateutil>=2.8.2->pandas) (1.16.0)\n"
     ]
    }
   ],
   "source": [
    "!pip install pandas openpyxl"
   ]
  },
  {
   "cell_type": "code",
   "execution_count": 2,
   "metadata": {
    "scrolled": true
   },
   "outputs": [
    {
     "name": "stdout",
     "output_type": "stream",
     "text": [
      "7.下列对文本相关内容和艺术特色的分析鉴赏，不正确的一项是(3分)\n",
      "A.作者在写南国的风物时，用了“那一块一块的稻田”那-堆-堆的房屋”等，语言的节奏感符合火\n",
      "车行进时的动态感。\n",
      "B.作者认为车过潭江的部分是“新宁铁路中的一段最美丽的工程”，既在于这里风景的优美，更在于\n",
      "工程体现了机械的诗意。\n",
      "C.作者认为如果只把“月夜”“ 花朝”“青山” 一类的东西当作写诗的材料，其实是不懂诗，依\n",
      "据是这些材料本身缺乏生命力.\n",
      "D.“诗应该给人以创造的喜悦，诗应该散布生命”是作者对诗的认识，也是他认为机械具有诗意的一一\n",
      "个重要前提.\n",
      "8.本文在写“机械的诗”时再写到工人，请简要分析二者之间的内在联系。(6分)\n",
      "9.这篇随笔的最后段跳转到作者在上海的生活见闻，这样写有什么好处?请结合文本简要分析.\n"
     ]
    }
   ],
   "source": [
    "# coding~\n",
    "\n",
    "import pandas as pd\n",
    "import re\n",
    "\n",
    "# 读取Excel文件\n",
    "df = pd.read_excel('训练集-语文.xlsx')\n",
    "df = df.replace('．', '.', regex=True)\n",
    "df = df.replace('（', '(', regex=True)\n",
    "\n",
    "\n",
    "# 读取第二行（即第三行）“选项”列的内容\n",
    "second_row_option_content = df.loc[2, '选项']\n",
    "\n",
    "# 显示第二行“选项”列的内容\n",
    "print(second_row_option_content)"
   ]
  },
  {
   "cell_type": "code",
   "execution_count": 3,
   "metadata": {
    "scrolled": true
   },
   "outputs": [],
   "source": [
    "def chinese_multiple_choice_questions(questions_with_answers):\n",
    "    # 输入的题目文本\n",
    "    text = questions_with_answers\n",
    "\n",
    "    # 正则表达式模式\n",
    "    question_pattern = re.compile(r'\\d+\\..*?(?=\\d+\\.|$)', re.DOTALL)\n",
    "    choice_pattern = re.compile(r'([A-D])\\s*(.*?)(?=[A-D]|$|\\n)', re.DOTALL)\n",
    "\n",
    "    # 找到所有问题\n",
    "    questions = question_pattern.findall(text)\n",
    "\n",
    "    # 初始化选择题和简答题列表\n",
    "    multiple_choice_questions = []\n",
    "    short_answer_questions = []\n",
    "\n",
    "        # 处理每个问题\n",
    "    for id,question in enumerate(questions):\n",
    "        # 检查是否是选择题\n",
    "        if re.search(r'[A-D]', question):\n",
    "            \n",
    "            choices = choice_pattern.findall(question)\n",
    "            question_text = re.split(r'\\n', question.split('(')[0])[0]\n",
    "            \n",
    "            \n",
    "            pattern_question = re.compile(r'(\\d+)\\.(.*)')\n",
    "            matches_question = str(id+1)+'.'+ pattern_question.findall(question_text)[0][1] # 取出问题后重排序\n",
    "            # print(str(id+1)+'.'+matches_question)\n",
    "            \n",
    "            multiple_choice_questions.append({\n",
    "                'question': matches_question,\n",
    "                'choices': choices\n",
    "            })\n",
    "        else:\n",
    "            short_answer_questions.append(question.strip())\n",
    "    return multiple_choice_questions"
   ]
  },
  {
   "cell_type": "code",
   "execution_count": 4,
   "metadata": {
    "scrolled": true
   },
   "outputs": [],
   "source": [
    "questions_list = []\n",
    "for data_id in range(len(df[:3])):\n",
    "    second_row_option_content = df.loc[data_id, '选项']\n",
    "    questions_list.append(chinese_multiple_choice_questions(second_row_option_content))"
   ]
  },
  {
   "cell_type": "code",
   "execution_count": 5,
   "metadata": {
    "scrolled": true
   },
   "outputs": [],
   "source": [
    "def chinese_multiple_choice_answers(questions_with_answers):\n",
    "    questions_with_answers = questions_with_answers.replace(\" \", \"\").replace(\"\\n\", \"\")\n",
    "    \n",
    "    # print(questions_with_answers)\n",
    "    # 使用正则表达式匹配答案\n",
    "    choice_pattern = re.compile(r'(\\d+)\\.([A-Z]+)')\n",
    "    short_pattern = re.compile(r'(\\d+)\\.([^A-Z]+)')\n",
    "\n",
    "    # 找到所有匹配的答案\n",
    "    choice_matches = choice_pattern.findall(questions_with_answers)\n",
    "    short_matches = short_pattern.findall(questions_with_answers)\n",
    "\n",
    "    # 将匹配结果转换为字典\n",
    "    choice_answers = {int(index): answer for index, answer in choice_matches}\n",
    "    short_answers = {int(index): answer for index, answer in short_matches}\n",
    "\n",
    "    # 按序号重新排序\n",
    "    sorted_choice_answers = sorted(choice_answers.items())\n",
    "    sorted_short_answers = sorted(short_answers.items())\n",
    "    \n",
    "    answers = []\n",
    "\n",
    "    # 输出结果\n",
    "    \n",
    "    # print(\"选择题答案：\")\n",
    "    for id in range(len(sorted_choice_answers)):\n",
    "        answers.append(f\"{id+1}. {sorted_choice_answers[id][1]}\")\n",
    "    return answers"
   ]
  },
  {
   "cell_type": "code",
   "execution_count": 6,
   "metadata": {
    "scrolled": true
   },
   "outputs": [
    {
     "name": "stdout",
     "output_type": "stream",
     "text": [
      "4.B\n",
      "5.窗子既是指现实世界中的窗子，可以是铁纱窗，或者是玻璃窗；窗子又是指隔绝自己生活与他人世界的象征。\n",
      "有的人坐在窗子里面，有的人行走在窗子外面，而一扇窗子隔绝出来的，是两个截然不同的世界，窗外的人固然不了解窗里的人，窗里的人，也永远不能了解窗外的人。\n",
      "6.你、我的代表了两种不同的人生视角，观看自己生活的视角和观看他人生活的视角。窗外是劳作、奔波、挣扎、穷苦，窗内是奢侈、悠闲、烦闷、无聊。这是两个世界，两种生活。蕴含着作者的态度：窗里窗外是两个世界，窗外的人无法理解窗内，窗内的人也无法走进窗外，我们只能以一个旁观者的角度对待世界，不要以为自己真正的解了什么而私下满足，“天知道那是罪过”。\n"
     ]
    },
    {
     "data": {
      "text/plain": [
       "['1. B']"
      ]
     },
     "execution_count": 6,
     "metadata": {},
     "output_type": "execute_result"
    }
   ],
   "source": [
    "# 读取第二行（即第三行）“选项”列的内容\n",
    "second_row_option_content = df.loc[60, '答案']\n",
    "\n",
    "# 显示第二行“选项”列的内容\n",
    "print(second_row_option_content)\n",
    "\n",
    "\n",
    "chinese_multiple_choice_answers(second_row_option_content)"
   ]
  },
  {
   "cell_type": "code",
   "execution_count": 7,
   "metadata": {
    "scrolled": true
   },
   "outputs": [],
   "source": [
    "df['答案_processed'] = df['答案'].map(chinese_multiple_choice_answers)\n"
   ]
  },
  {
   "cell_type": "code",
   "execution_count": 8,
   "metadata": {
    "scrolled": true
   },
   "outputs": [],
   "source": [
    "def get_prompt_cn(text):\n",
    "    prompt = f'''\n",
    "    你是⼀个⾼考选择题出题专家，你出的题有⼀定深度，你将根据阅读文本，出4道单项选择题，包含题目选项，以及对应的答案，注意：不⽤给出原文，每道题由1个问题和4个选项组成，仅存在1个正确答案，请严格按照要求执行。 阅读文本主要是中文，你出的题目需要满足以下要点，紧扣文章内容且题干和答案为中文：\n",
    "    \n",
    "    ### 回答要求\n",
    "    (1)理解文中重要概念的含义\n",
    "    (2)理解文中重要句子的含意\n",
    "    (3)分析论点、论据和论证方法\n",
    "    \n",
    "    \n",
    "    ### 阅读文本\n",
    "    {text}\n",
    "    '''\n",
    "    \n",
    "    return prompt   "
   ]
  },
  {
   "cell_type": "code",
   "execution_count": 9,
   "metadata": {
    "scrolled": true
   },
   "outputs": [],
   "source": [
    "def process_cn(df): \n",
    "    res_input = []\n",
    "    res_output = []\n",
    "    for id in range(len(df)):\n",
    "        data_options = df.loc[id, '选项']\n",
    "        data_answers = df.loc[id,'答案']\n",
    "        data_prompt = df.loc[id,'阅读文本']\n",
    "        data_options = chinese_multiple_choice_questions(data_options)\n",
    "        data_answers = chinese_multiple_choice_answers(data_answers)\n",
    "        data_prompt = get_prompt_cn(data_prompt)\n",
    "        # print(data_options)\n",
    "        # print(data_answers)\n",
    "        \n",
    "        if(len(data_answers)==len(data_options)):\n",
    "            res = ''\n",
    "            for id_,question in enumerate(data_options):\n",
    "                res += f'''\n",
    "{question['question']}?\n",
    "                '''+'\\n'\n",
    "                for choise in question['choices']:\n",
    "                    res = res+ choise[0] + choise[1]+ '\\n'\n",
    "                res = res + '答案:' + str(data_answers[id_].split('.')[-1])  + '\\n'\n",
    "            res_output.append(res)\n",
    "            res_input.append(data_prompt)\n",
    "        # break\n",
    "    return res_input,res_output\n",
    "    \n"
   ]
  },
  {
   "cell_type": "code",
   "execution_count": 10,
   "metadata": {
    "scrolled": true
   },
   "outputs": [],
   "source": [
    "cn_input,cn_output = process_cn(df)"
   ]
  },
  {
   "cell_type": "code",
   "execution_count": 11,
   "metadata": {
    "scrolled": true
   },
   "outputs": [
    {
     "data": {
      "text/plain": [
       "58"
      ]
     },
     "execution_count": 11,
     "metadata": {},
     "output_type": "execute_result"
    }
   ],
   "source": [
    "len(cn_input)"
   ]
  },
  {
   "cell_type": "markdown",
   "metadata": {},
   "source": [
    "### 1.2 英语问答制作"
   ]
  },
  {
   "cell_type": "code",
   "execution_count": 12,
   "metadata": {
    "scrolled": true
   },
   "outputs": [
    {
     "name": "stdout",
     "output_type": "stream",
     "text": [
      "21. What is an advantage of MacBike?\n",
      "A. It gives children a discount.\n",
      "B. It of offers many types of bikes.\n",
      "C. It organizes free cycle tours.\n",
      "D. It has over 2,500 rental shops.\n",
      "22. How much do you pay for renting a bike with hand brake and three gears for two days?\n",
      "A. €15.75.\n",
      "B. €19.50.\n",
      "C. €22.75.\n",
      "D. €29.50.\n",
      "23. Where does the guided city tour start?\n",
      "A. The Gooyer, Windmill.\n",
      "C. Heineken Brewery.\n",
      "B. The Skinny Bridge.\n",
      "D. D.m Square.\n"
     ]
    }
   ],
   "source": [
    "# coding~\n",
    "\n",
    "import pandas as pd\n",
    "\n",
    "# 读取Excel文件\n",
    "df = pd.read_excel('训练集-英语.xlsx')\n",
    "df = df.replace('．', '.', regex=True).replace('А.', 'A.', regex=True).replace('В.', 'B.', regex=True).replace('С.', 'C.', regex=True).replace('D.', 'D.', regex=True)\n",
    "# df = df.replace('（', '(', regex=True)\n",
    "\n",
    "# 读取第二行（即第三行）“选项”列的内容\n",
    "second_row_option_content = df.loc[0, '选项']\n",
    "\n",
    "# 显示第二行“选项”列的内容\n",
    "print(second_row_option_content)"
   ]
  },
  {
   "cell_type": "code",
   "execution_count": 13,
   "metadata": {
    "scrolled": true
   },
   "outputs": [],
   "source": [
    "\n",
    "def remove_whitespace_and_newlines(input_string):\n",
    "    # 使用str.replace()方法删除空格和换行符\n",
    "    result = input_string.replace(\" \", \"\").replace(\"\\n\", \"\").replace(\".\", \"\")\n",
    "    return result"
   ]
  },
  {
   "cell_type": "code",
   "execution_count": 14,
   "metadata": {
    "scrolled": true
   },
   "outputs": [],
   "source": [
    "import re\n",
    "\n",
    "# 示例文本\n",
    "text = \"\"\"\n",
    "32. B. The underlying logic of the effect.                                                   33.D. estimates were not fully independent.\n",
    "34.C. The discussion process.            35.D. Approving.\n",
    "\"\"\"\n",
    "def get_answers(text):\n",
    "    text = remove_whitespace_and_newlines(text)\n",
    "    # 正则表达式模式\n",
    "    pattern = re.compile(r'(\\d)\\s*([A-D])')\n",
    "\n",
    "    # 查找所有匹配项\n",
    "    matches = pattern.findall(text)\n",
    "    res = []\n",
    "    # 打印结果\n",
    "    for match in matches:\n",
    "        number_dot, first_letter = match\n",
    "        res.append(first_letter)\n",
    "    return res"
   ]
  },
  {
   "cell_type": "code",
   "execution_count": 15,
   "metadata": {
    "scrolled": true
   },
   "outputs": [
    {
     "name": "stdout",
     "output_type": "stream",
     "text": [
      "['A', 'D', 'D', 'B']\n"
     ]
    }
   ],
   "source": [
    "# 示例输入\n",
    "input_string = \"28. A. It is simple and plain.              29. D. Influential.                                30. D.33%.                                             31. B. Male chefs on TV programmes.\"\n",
    "res = get_answers(input_string)\n",
    "print(res)"
   ]
  },
  {
   "cell_type": "code",
   "execution_count": 16,
   "metadata": {
    "scrolled": true
   },
   "outputs": [
    {
     "name": "stdout",
     "output_type": "stream",
     "text": [
      "{'question': ' What is an advantage of MacBike?', 'options': {'A': 'A. It gives children a discount.', 'B': 'B. It of offers many types of bikes.', 'C': 'C. It organizes free cycle tours.', 'D': 'D. It has over 2,500 rental shops.'}}\n",
      "{'question': ' How much do you pay for renting a bike with hand brake and three gears for two days?', 'options': {'A': 'A. €15.75.', 'B': 'B. €19.50.', 'C': 'C. €22.75.', 'D': 'D. €29.50.'}}\n",
      "{'question': ' Where does the guided city tour start?', 'options': {'A': 'A. The Gooyer, Windmill.', 'B': 'B. The Skinny Bridge.', 'C': 'C. Heineken Brewery.', 'D': 'D. D.m Square.'}}\n"
     ]
    }
   ],
   "source": [
    "import re\n",
    "\n",
    "# 示例文本\n",
    "text = second_row_option_content\n",
    "\n",
    "def get_questions(text):\n",
    "    text = text.replace('\\n', '  ')+'  '\n",
    "    # print(text)\n",
    "    # 正则表达式模式\n",
    "    pattern = re.compile(r'(\\d+\\..*?)(A\\..*?\\s{2})([B-D]\\..*?\\s{2})([B-D]\\..*?\\s{2})(D\\..*?\\s{2})', re.DOTALL)\n",
    "\n",
    "    # 查找所有匹配项\n",
    "    matches = pattern.findall(text)\n",
    "\n",
    "    # 存储结果的字典列表\n",
    "    questions_dict_list = []\n",
    "\n",
    "    # 打印结果\n",
    "    for match in matches:\n",
    "        question, option1, option2, option3, option4 = match\n",
    "        pattern_question = re.compile(r'(\\d+)\\.(.*)')\n",
    "        question_text = pattern_question.findall(question.strip())[0][1]\n",
    "        \n",
    "        # 提取选项字母和内容\n",
    "        options = {option1[0]: option1, option2[0]: option2, option3[0]: option3, option4[0]: option4}\n",
    "        \n",
    "        question_dict = {\n",
    "            'question': question_text,\n",
    "            'options': {\n",
    "                'A': options.get('A', '').strip(),\n",
    "                'B': options.get('B', '').strip(),\n",
    "                'C': options.get('C', '').strip(),\n",
    "                'D': options.get('D', '').strip()\n",
    "            }\n",
    "        }\n",
    "        questions_dict_list.append(question_dict)\n",
    "    return questions_dict_list\n",
    "\n",
    "# 调用函数并打印结果\n",
    "questions = get_questions(text)\n",
    "for q in questions:\n",
    "    print(q)"
   ]
  },
  {
   "cell_type": "code",
   "execution_count": 17,
   "metadata": {
    "scrolled": true
   },
   "outputs": [],
   "source": [
    "def get_prompt_en(text):\n",
    "    prompt = f'''\n",
    "    你是⼀个⾼考选择题出题专家，你出的题有⼀定深度，你将根据阅读文本，出4道单项选择题，包含题目选项，以及对应的答案，注意：不⽤给出原文，每道题由1个问题和4个选项组成，仅存在1个正确答案，请严格按照要求执行。\n",
    "The reading text is mainly in English. The questions and answers you raised need to be completed in English for at least the following points:\n",
    "    \n",
    "    ### 回答要求\n",
    "    (1)Understanding the main idea of the main idea.\n",
    "    (2)Understand the specific information in the text.\n",
    "    (3)infering the meaning of words and phrases from the context\n",
    "    \n",
    "    \n",
    "    ### 阅读文本\n",
    "    {text}\n",
    "    '''\n",
    "    \n",
    "    return prompt   "
   ]
  },
  {
   "cell_type": "code",
   "execution_count": 18,
   "metadata": {
    "scrolled": true
   },
   "outputs": [],
   "source": [
    "def process_en(df): \n",
    "    res_input = []\n",
    "    res_output = []\n",
    "    for id in range(len(df)):\n",
    "        data_options = df.loc[id, '选项']\n",
    "        data_answers = df.loc[id,'答案']\n",
    "        data_prompt = df.loc[id,'阅读文本']\n",
    "        data_options = get_questions(data_options)\n",
    "        data_answers = get_answers(data_answers)\n",
    "        data_prompt = get_prompt_en(data_prompt)\n",
    "        # print(data_options)\n",
    "        # print(data_answers)\n",
    "\n",
    "        if(len(data_answers)==len(data_options)):\n",
    "            res = ''\n",
    "            for id,question in enumerate(data_options):\n",
    "                res += f'''\n",
    "                {id+1}.{question['question']}\n",
    "                {question['options']['A']}\n",
    "                {question['options']['B']}\n",
    "                {question['options']['C']}\n",
    "                {question['options']['D']}\n",
    "                answer:{data_answers[id]}\n",
    "                '''+'\\n'\n",
    "            res_output.append(res)\n",
    "            res_input.append(data_prompt)\n",
    "    return res_input,res_output\n",
    "    # break\n"
   ]
  },
  {
   "cell_type": "code",
   "execution_count": 19,
   "metadata": {
    "scrolled": true
   },
   "outputs": [],
   "source": [
    "en_input,en_output = process_en(df)"
   ]
  },
  {
   "cell_type": "code",
   "execution_count": 20,
   "metadata": {
    "scrolled": true
   },
   "outputs": [
    {
     "data": {
      "text/html": [
       "<div>\n",
       "<style scoped>\n",
       "    .dataframe tbody tr th:only-of-type {\n",
       "        vertical-align: middle;\n",
       "    }\n",
       "\n",
       "    .dataframe tbody tr th {\n",
       "        vertical-align: top;\n",
       "    }\n",
       "\n",
       "    .dataframe thead th {\n",
       "        text-align: right;\n",
       "    }\n",
       "</style>\n",
       "<table border=\"1\" class=\"dataframe\">\n",
       "  <thead>\n",
       "    <tr style=\"text-align: right;\">\n",
       "      <th></th>\n",
       "      <th>input</th>\n",
       "      <th>output</th>\n",
       "    </tr>\n",
       "  </thead>\n",
       "  <tbody>\n",
       "    <tr>\n",
       "      <th>0</th>\n",
       "      <td>\\n    你是⼀个⾼考选择题出题专家，你出的题有⼀定深度，你将根据阅读文本，出4道单项选择...</td>\n",
       "      <td>\\n1.下列关于原文内容的理解和分析,正确的一项是?\\n                \\n...</td>\n",
       "    </tr>\n",
       "    <tr>\n",
       "      <th>1</th>\n",
       "      <td>\\n    你是⼀个⾼考选择题出题专家，你出的题有⼀定深度，你将根据阅读文本，出4道单项选择...</td>\n",
       "      <td>\\n1.下列对原文相关内容的理解和分析,正确的一项是?\\n                \\...</td>\n",
       "    </tr>\n",
       "    <tr>\n",
       "      <th>2</th>\n",
       "      <td>\\n    你是⼀个⾼考选择题出题专家，你出的题有⼀定深度，你将根据阅读文本，出4道单项选择...</td>\n",
       "      <td>\\n1.下列对文本相关内容和艺术特色的分析鉴赏，不正确的一项是?\\n            ...</td>\n",
       "    </tr>\n",
       "    <tr>\n",
       "      <th>3</th>\n",
       "      <td>\\n    你是⼀个⾼考选择题出题专家，你出的题有⼀定深度，你将根据阅读文本，出4道单项选择...</td>\n",
       "      <td>\\n1.下列关于原文内容的理解和分析，不正确的一-项是?\\n                ...</td>\n",
       "    </tr>\n",
       "    <tr>\n",
       "      <th>4</th>\n",
       "      <td>\\n    你是⼀个⾼考选择题出题专家，你出的题有⼀定深度，你将根据阅读文本，出4道单项选择...</td>\n",
       "      <td>\\n1.下列对原文相关内容的理解和分析，不正确的一项是?\\n                ...</td>\n",
       "    </tr>\n",
       "    <tr>\n",
       "      <th>...</th>\n",
       "      <td>...</td>\n",
       "      <td>...</td>\n",
       "    </tr>\n",
       "    <tr>\n",
       "      <th>147</th>\n",
       "      <td>\\n    你是⼀个⾼考选择题出题专家，你出的题有⼀定深度，你将根据阅读文本，出4道单项选择...</td>\n",
       "      <td>\\n                1. What makes the applicatio...</td>\n",
       "    </tr>\n",
       "    <tr>\n",
       "      <th>148</th>\n",
       "      <td>\\n    你是⼀个⾼考选择题出题专家，你出的题有⼀定深度，你将根据阅读文本，出4道单项选择...</td>\n",
       "      <td>\\n                1. Where is the Welsh Proms ...</td>\n",
       "    </tr>\n",
       "    <tr>\n",
       "      <th>149</th>\n",
       "      <td>\\n    你是⼀个⾼考选择题出题专家，你出的题有⼀定深度，你将根据阅读文本，出4道单项选择...</td>\n",
       "      <td>\\n                1. How did the cockatoos get...</td>\n",
       "    </tr>\n",
       "    <tr>\n",
       "      <th>150</th>\n",
       "      <td>\\n    你是⼀个⾼考选择题出题专家，你出的题有⼀定深度，你将根据阅读文本，出4道单项选择...</td>\n",
       "      <td>\\n                1. Which of the following be...</td>\n",
       "    </tr>\n",
       "    <tr>\n",
       "      <th>151</th>\n",
       "      <td>\\n    你是⼀个⾼考选择题出题专家，你出的题有⼀定深度，你将根据阅读文本，出4道单项选择...</td>\n",
       "      <td>\\n                1. What is the first paragra...</td>\n",
       "    </tr>\n",
       "  </tbody>\n",
       "</table>\n",
       "<p>152 rows × 2 columns</p>\n",
       "</div>"
      ],
      "text/plain": [
       "                                                 input  \\\n",
       "0    \\n    你是⼀个⾼考选择题出题专家，你出的题有⼀定深度，你将根据阅读文本，出4道单项选择...   \n",
       "1    \\n    你是⼀个⾼考选择题出题专家，你出的题有⼀定深度，你将根据阅读文本，出4道单项选择...   \n",
       "2    \\n    你是⼀个⾼考选择题出题专家，你出的题有⼀定深度，你将根据阅读文本，出4道单项选择...   \n",
       "3    \\n    你是⼀个⾼考选择题出题专家，你出的题有⼀定深度，你将根据阅读文本，出4道单项选择...   \n",
       "4    \\n    你是⼀个⾼考选择题出题专家，你出的题有⼀定深度，你将根据阅读文本，出4道单项选择...   \n",
       "..                                                 ...   \n",
       "147  \\n    你是⼀个⾼考选择题出题专家，你出的题有⼀定深度，你将根据阅读文本，出4道单项选择...   \n",
       "148  \\n    你是⼀个⾼考选择题出题专家，你出的题有⼀定深度，你将根据阅读文本，出4道单项选择...   \n",
       "149  \\n    你是⼀个⾼考选择题出题专家，你出的题有⼀定深度，你将根据阅读文本，出4道单项选择...   \n",
       "150  \\n    你是⼀个⾼考选择题出题专家，你出的题有⼀定深度，你将根据阅读文本，出4道单项选择...   \n",
       "151  \\n    你是⼀个⾼考选择题出题专家，你出的题有⼀定深度，你将根据阅读文本，出4道单项选择...   \n",
       "\n",
       "                                                output  \n",
       "0    \\n1.下列关于原文内容的理解和分析,正确的一项是?\\n                \\n...  \n",
       "1    \\n1.下列对原文相关内容的理解和分析,正确的一项是?\\n                \\...  \n",
       "2    \\n1.下列对文本相关内容和艺术特色的分析鉴赏，不正确的一项是?\\n            ...  \n",
       "3    \\n1.下列关于原文内容的理解和分析，不正确的一-项是?\\n                ...  \n",
       "4    \\n1.下列对原文相关内容的理解和分析，不正确的一项是?\\n                ...  \n",
       "..                                                 ...  \n",
       "147  \\n                1. What makes the applicatio...  \n",
       "148  \\n                1. Where is the Welsh Proms ...  \n",
       "149  \\n                1. How did the cockatoos get...  \n",
       "150  \\n                1. Which of the following be...  \n",
       "151  \\n                1. What is the first paragra...  \n",
       "\n",
       "[152 rows x 2 columns]"
      ]
     },
     "execution_count": 20,
     "metadata": {},
     "output_type": "execute_result"
    }
   ],
   "source": [
    "\n",
    "# 将两个列表转换为DataFrame\n",
    "df_new = pd.DataFrame({'input': cn_input+cn_input[:30]+en_input+en_input[:20], 'output': cn_output+cn_output[:30]+en_output+en_output[:20]})\n",
    "\n",
    "df_new"
   ]
  },
  {
   "cell_type": "code",
   "execution_count": 21,
   "metadata": {
    "scrolled": true
   },
   "outputs": [
    {
     "name": "stdout",
     "output_type": "stream",
     "text": [
      "JSONL 文件已生成\n"
     ]
    }
   ],
   "source": [
    "import json\n",
    "\n",
    "\n",
    "# 打开一个文件用于写入 JSONL，并设置编码为 UTF-8\n",
    "with open('output.jsonl', 'w', encoding='utf-8') as f:\n",
    "    # 遍历每一行并将其转换为 JSON\n",
    "    for index, row in df_new.iterrows():\n",
    "        row_dict = row.to_dict()\n",
    "        row_json = json.dumps(row_dict, ensure_ascii=False,)\n",
    "        # 将 JSON 字符串写入文件，并添加换行符\n",
    "        f.write(row_json + '\\n')\n",
    "\n",
    "# 打印确认信息\n",
    "print(\"JSONL 文件已生成\")"
   ]
  },
  {
   "cell_type": "markdown",
   "metadata": {},
   "source": [
    "# 2.模型微调"
   ]
  },
  {
   "cell_type": "markdown",
   "metadata": {},
   "source": [
    "### 拿着微调文件快到飞书文档学习如何使用平台微调！"
   ]
  },
  {
   "cell_type": "markdown",
   "metadata": {},
   "source": [
    "# 3.本地测试"
   ]
  },
  {
   "cell_type": "code",
   "execution_count": 22,
   "metadata": {
    "execution": {
     "iopub.execute_input": "2024-08-08T08:58:59.124811Z",
     "iopub.status.busy": "2024-08-08T08:58:59.124281Z",
     "iopub.status.idle": "2024-08-08T09:04:14.610890Z",
     "shell.execute_reply": "2024-08-08T09:04:14.609063Z",
     "shell.execute_reply.started": "2024-08-08T08:58:59.124779Z"
    },
    "scrolled": true
   },
   "outputs": [
    {
     "name": "stdout",
     "output_type": "stream",
     "text": [
      "Looking in indexes: https://mirror.baidu.com/pypi/simple/, https://mirrors.aliyun.com/pypi/simple/\n",
      "Requirement already satisfied: spark_ai_python in /opt/conda/envs/python35-paddle120-env/lib/python3.10/site-packages (0.4.1)\n",
      "\u001b[33mWARNING: Skipping page https://mirror.baidu.com/pypi/simple/spark-ai-python/ because the GET request got Content-Type: application/octet-stream. The only supported Content-Types are application/vnd.pypi.simple.v1+json, application/vnd.pypi.simple.v1+html, and text/html\u001b[0m\u001b[33m\n",
      "\u001b[0mRequirement already satisfied: aiohttp>3.3 in /opt/conda/envs/python35-paddle120-env/lib/python3.10/site-packages (from spark_ai_python) (3.9.5)\n",
      "Requirement already satisfied: httpx in /opt/conda/envs/python35-paddle120-env/lib/python3.10/site-packages (from spark_ai_python) (0.27.0)\n",
      "Requirement already satisfied: jsonpatch in /opt/conda/envs/python35-paddle120-env/lib/python3.10/site-packages (from spark_ai_python) (1.33)\n",
      "Requirement already satisfied: llama-index<0.11.0,>=0.10.24 in /opt/conda/envs/python35-paddle120-env/lib/python3.10/site-packages (from spark_ai_python) (0.10.63)\n",
      "Requirement already satisfied: llama-index-vector-stores-chroma<0.2.0,>=0.1.6 in /opt/conda/envs/python35-paddle120-env/lib/python3.10/site-packages (from spark_ai_python) (0.1.10)\n",
      "Requirement already satisfied: nest-asyncio<2.0.0,>=1.6.0 in /opt/conda/envs/python35-paddle120-env/lib/python3.10/site-packages (from spark_ai_python) (1.6.0)\n",
      "Requirement already satisfied: packaging in /opt/conda/envs/python35-paddle120-env/lib/python3.10/site-packages (from spark_ai_python) (24.1)\n",
      "Requirement already satisfied: pydantic in /opt/conda/envs/python35-paddle120-env/lib/python3.10/site-packages (from spark_ai_python) (2.8.2)\n",
      "Requirement already satisfied: python-dotenv in /opt/conda/envs/python35-paddle120-env/lib/python3.10/site-packages (from spark_ai_python) (1.0.1)\n",
      "Requirement already satisfied: pyyaml in /opt/conda/envs/python35-paddle120-env/lib/python3.10/site-packages (from spark_ai_python) (6.0.1)\n",
      "Requirement already satisfied: requests in /opt/conda/envs/python35-paddle120-env/lib/python3.10/site-packages (from spark_ai_python) (2.32.3)\n",
      "Requirement already satisfied: tenacity in /opt/conda/envs/python35-paddle120-env/lib/python3.10/site-packages (from spark_ai_python) (8.5.0)\n",
      "Requirement already satisfied: websocket-client<2.0.0,>=1.7.0 in /opt/conda/envs/python35-paddle120-env/lib/python3.10/site-packages (from spark_ai_python) (1.8.0)\n",
      "Requirement already satisfied: websockets in /opt/conda/envs/python35-paddle120-env/lib/python3.10/site-packages (from spark_ai_python) (11.0.3)\n",
      "Requirement already satisfied: aiosignal>=1.1.2 in /opt/conda/envs/python35-paddle120-env/lib/python3.10/site-packages (from aiohttp>3.3->spark_ai_python) (1.3.1)\n",
      "Requirement already satisfied: attrs>=17.3.0 in /opt/conda/envs/python35-paddle120-env/lib/python3.10/site-packages (from aiohttp>3.3->spark_ai_python) (23.2.0)\n",
      "Requirement already satisfied: frozenlist>=1.1.1 in /opt/conda/envs/python35-paddle120-env/lib/python3.10/site-packages (from aiohttp>3.3->spark_ai_python) (1.4.1)\n",
      "Requirement already satisfied: multidict<7.0,>=4.5 in /opt/conda/envs/python35-paddle120-env/lib/python3.10/site-packages (from aiohttp>3.3->spark_ai_python) (6.0.5)\n",
      "Requirement already satisfied: yarl<2.0,>=1.0 in /opt/conda/envs/python35-paddle120-env/lib/python3.10/site-packages (from aiohttp>3.3->spark_ai_python) (1.9.4)\n",
      "Requirement already satisfied: async-timeout<5.0,>=4.0 in /opt/conda/envs/python35-paddle120-env/lib/python3.10/site-packages (from aiohttp>3.3->spark_ai_python) (4.0.3)\n",
      "Requirement already satisfied: llama-index-agent-openai<0.3.0,>=0.1.4 in /opt/conda/envs/python35-paddle120-env/lib/python3.10/site-packages (from llama-index<0.11.0,>=0.10.24->spark_ai_python) (0.2.9)\n",
      "Requirement already satisfied: llama-index-cli<0.2.0,>=0.1.2 in /opt/conda/envs/python35-paddle120-env/lib/python3.10/site-packages (from llama-index<0.11.0,>=0.10.24->spark_ai_python) (0.1.13)\n",
      "Requirement already satisfied: llama-index-core==0.10.63 in /opt/conda/envs/python35-paddle120-env/lib/python3.10/site-packages (from llama-index<0.11.0,>=0.10.24->spark_ai_python) (0.10.63)\n",
      "Requirement already satisfied: llama-index-embeddings-openai<0.2.0,>=0.1.5 in /opt/conda/envs/python35-paddle120-env/lib/python3.10/site-packages (from llama-index<0.11.0,>=0.10.24->spark_ai_python) (0.1.11)\n",
      "Requirement already satisfied: llama-index-indices-managed-llama-cloud>=0.2.0 in /opt/conda/envs/python35-paddle120-env/lib/python3.10/site-packages (from llama-index<0.11.0,>=0.10.24->spark_ai_python) (0.2.7)\n",
      "Requirement already satisfied: llama-index-legacy<0.10.0,>=0.9.48 in /opt/conda/envs/python35-paddle120-env/lib/python3.10/site-packages (from llama-index<0.11.0,>=0.10.24->spark_ai_python) (0.9.48)\n",
      "Requirement already satisfied: llama-index-llms-openai<0.2.0,>=0.1.27 in /opt/conda/envs/python35-paddle120-env/lib/python3.10/site-packages (from llama-index<0.11.0,>=0.10.24->spark_ai_python) (0.1.29)\n",
      "Requirement already satisfied: llama-index-multi-modal-llms-openai<0.2.0,>=0.1.3 in /opt/conda/envs/python35-paddle120-env/lib/python3.10/site-packages (from llama-index<0.11.0,>=0.10.24->spark_ai_python) (0.1.9)\n",
      "Requirement already satisfied: llama-index-program-openai<0.2.0,>=0.1.3 in /opt/conda/envs/python35-paddle120-env/lib/python3.10/site-packages (from llama-index<0.11.0,>=0.10.24->spark_ai_python) (0.1.7)\n",
      "Requirement already satisfied: llama-index-question-gen-openai<0.2.0,>=0.1.2 in /opt/conda/envs/python35-paddle120-env/lib/python3.10/site-packages (from llama-index<0.11.0,>=0.10.24->spark_ai_python) (0.1.3)\n",
      "Requirement already satisfied: llama-index-readers-file<0.2.0,>=0.1.4 in /opt/conda/envs/python35-paddle120-env/lib/python3.10/site-packages (from llama-index<0.11.0,>=0.10.24->spark_ai_python) (0.1.33)\n",
      "Requirement already satisfied: llama-index-readers-llama-parse>=0.1.2 in /opt/conda/envs/python35-paddle120-env/lib/python3.10/site-packages (from llama-index<0.11.0,>=0.10.24->spark_ai_python) (0.1.6)\n",
      "Requirement already satisfied: SQLAlchemy>=1.4.49 in /opt/conda/envs/python35-paddle120-env/lib/python3.10/site-packages (from SQLAlchemy[asyncio]>=1.4.49->llama-index-core==0.10.63->llama-index<0.11.0,>=0.10.24->spark_ai_python) (2.0.32)\n",
      "Requirement already satisfied: dataclasses-json in /opt/conda/envs/python35-paddle120-env/lib/python3.10/site-packages (from llama-index-core==0.10.63->llama-index<0.11.0,>=0.10.24->spark_ai_python) (0.6.7)\n",
      "Requirement already satisfied: deprecated>=1.2.9.3 in /opt/conda/envs/python35-paddle120-env/lib/python3.10/site-packages (from llama-index-core==0.10.63->llama-index<0.11.0,>=0.10.24->spark_ai_python) (1.2.14)\n",
      "Requirement already satisfied: dirtyjson<2.0.0,>=1.0.8 in /opt/conda/envs/python35-paddle120-env/lib/python3.10/site-packages (from llama-index-core==0.10.63->llama-index<0.11.0,>=0.10.24->spark_ai_python) (1.0.8)\n",
      "Requirement already satisfied: fsspec>=2023.5.0 in /opt/conda/envs/python35-paddle120-env/lib/python3.10/site-packages (from llama-index-core==0.10.63->llama-index<0.11.0,>=0.10.24->spark_ai_python) (2024.5.0)\n",
      "Requirement already satisfied: networkx>=3.0 in /opt/conda/envs/python35-paddle120-env/lib/python3.10/site-packages (from llama-index-core==0.10.63->llama-index<0.11.0,>=0.10.24->spark_ai_python) (3.3)\n",
      "Requirement already satisfied: nltk<4.0.0,>=3.8.1 in /opt/conda/envs/python35-paddle120-env/lib/python3.10/site-packages (from llama-index-core==0.10.63->llama-index<0.11.0,>=0.10.24->spark_ai_python) (3.8.1)\n",
      "Requirement already satisfied: numpy<2.0.0 in /opt/conda/envs/python35-paddle120-env/lib/python3.10/site-packages (from llama-index-core==0.10.63->llama-index<0.11.0,>=0.10.24->spark_ai_python) (1.26.4)\n",
      "Requirement already satisfied: openai>=1.1.0 in /opt/conda/envs/python35-paddle120-env/lib/python3.10/site-packages (from llama-index-core==0.10.63->llama-index<0.11.0,>=0.10.24->spark_ai_python) (1.40.2)\n",
      "Requirement already satisfied: pandas in /opt/conda/envs/python35-paddle120-env/lib/python3.10/site-packages (from llama-index-core==0.10.63->llama-index<0.11.0,>=0.10.24->spark_ai_python) (2.2.2)\n",
      "Requirement already satisfied: pillow>=9.0.0 in /opt/conda/envs/python35-paddle120-env/lib/python3.10/site-packages (from llama-index-core==0.10.63->llama-index<0.11.0,>=0.10.24->spark_ai_python) (10.4.0)\n",
      "Requirement already satisfied: tiktoken>=0.3.3 in /opt/conda/envs/python35-paddle120-env/lib/python3.10/site-packages (from llama-index-core==0.10.63->llama-index<0.11.0,>=0.10.24->spark_ai_python) (0.7.0)\n",
      "Requirement already satisfied: tqdm<5.0.0,>=4.66.1 in /opt/conda/envs/python35-paddle120-env/lib/python3.10/site-packages (from llama-index-core==0.10.63->llama-index<0.11.0,>=0.10.24->spark_ai_python) (4.66.4)\n",
      "Requirement already satisfied: typing-extensions>=4.5.0 in /opt/conda/envs/python35-paddle120-env/lib/python3.10/site-packages (from llama-index-core==0.10.63->llama-index<0.11.0,>=0.10.24->spark_ai_python) (4.12.2)\n",
      "Requirement already satisfied: typing-inspect>=0.8.0 in /opt/conda/envs/python35-paddle120-env/lib/python3.10/site-packages (from llama-index-core==0.10.63->llama-index<0.11.0,>=0.10.24->spark_ai_python) (0.9.0)\n",
      "Requirement already satisfied: wrapt in /opt/conda/envs/python35-paddle120-env/lib/python3.10/site-packages (from llama-index-core==0.10.63->llama-index<0.11.0,>=0.10.24->spark_ai_python) (1.16.0)\n",
      "Requirement already satisfied: chromadb<0.6.0,>=0.4.0 in /opt/conda/envs/python35-paddle120-env/lib/python3.10/site-packages (from llama-index-vector-stores-chroma<0.2.0,>=0.1.6->spark_ai_python) (0.5.5)\n",
      "Requirement already satisfied: charset-normalizer<4,>=2 in /opt/conda/envs/python35-paddle120-env/lib/python3.10/site-packages (from requests->spark_ai_python) (3.3.2)\n",
      "Requirement already satisfied: idna<4,>=2.5 in /opt/conda/envs/python35-paddle120-env/lib/python3.10/site-packages (from requests->spark_ai_python) (3.7)\n",
      "Requirement already satisfied: urllib3<3,>=1.21.1 in /opt/conda/envs/python35-paddle120-env/lib/python3.10/site-packages (from requests->spark_ai_python) (2.2.2)\n",
      "Requirement already satisfied: certifi>=2017.4.17 in /opt/conda/envs/python35-paddle120-env/lib/python3.10/site-packages (from requests->spark_ai_python) (2024.7.4)\n",
      "Requirement already satisfied: anyio in /opt/conda/envs/python35-paddle120-env/lib/python3.10/site-packages (from httpx->spark_ai_python) (4.4.0)\n",
      "Requirement already satisfied: httpcore==1.* in /opt/conda/envs/python35-paddle120-env/lib/python3.10/site-packages (from httpx->spark_ai_python) (1.0.5)\n",
      "Requirement already satisfied: sniffio in /opt/conda/envs/python35-paddle120-env/lib/python3.10/site-packages (from httpx->spark_ai_python) (1.3.1)\n",
      "Requirement already satisfied: h11<0.15,>=0.13 in /opt/conda/envs/python35-paddle120-env/lib/python3.10/site-packages (from httpcore==1.*->httpx->spark_ai_python) (0.14.0)\n",
      "Requirement already satisfied: jsonpointer>=1.9 in /opt/conda/envs/python35-paddle120-env/lib/python3.10/site-packages (from jsonpatch->spark_ai_python) (3.0.0)\n",
      "Requirement already satisfied: annotated-types>=0.4.0 in /opt/conda/envs/python35-paddle120-env/lib/python3.10/site-packages (from pydantic->spark_ai_python) (0.7.0)\n",
      "Requirement already satisfied: pydantic-core==2.20.1 in /opt/conda/envs/python35-paddle120-env/lib/python3.10/site-packages (from pydantic->spark_ai_python) (2.20.1)\n",
      "Requirement already satisfied: build>=1.0.3 in /opt/conda/envs/python35-paddle120-env/lib/python3.10/site-packages (from chromadb<0.6.0,>=0.4.0->llama-index-vector-stores-chroma<0.2.0,>=0.1.6->spark_ai_python) (1.2.1)\n",
      "Requirement already satisfied: chroma-hnswlib==0.7.6 in /opt/conda/envs/python35-paddle120-env/lib/python3.10/site-packages (from chromadb<0.6.0,>=0.4.0->llama-index-vector-stores-chroma<0.2.0,>=0.1.6->spark_ai_python) (0.7.6)\n",
      "Requirement already satisfied: fastapi>=0.95.2 in /opt/conda/envs/python35-paddle120-env/lib/python3.10/site-packages (from chromadb<0.6.0,>=0.4.0->llama-index-vector-stores-chroma<0.2.0,>=0.1.6->spark_ai_python) (0.111.0)\n",
      "Requirement already satisfied: uvicorn>=0.18.3 in /opt/conda/envs/python35-paddle120-env/lib/python3.10/site-packages (from uvicorn[standard]>=0.18.3->chromadb<0.6.0,>=0.4.0->llama-index-vector-stores-chroma<0.2.0,>=0.1.6->spark_ai_python) (0.30.1)\n",
      "Requirement already satisfied: posthog>=2.4.0 in /opt/conda/envs/python35-paddle120-env/lib/python3.10/site-packages (from chromadb<0.6.0,>=0.4.0->llama-index-vector-stores-chroma<0.2.0,>=0.1.6->spark_ai_python) (3.5.0)\n",
      "Requirement already satisfied: onnxruntime>=1.14.1 in /opt/conda/envs/python35-paddle120-env/lib/python3.10/site-packages (from chromadb<0.6.0,>=0.4.0->llama-index-vector-stores-chroma<0.2.0,>=0.1.6->spark_ai_python) (1.18.1)\n",
      "Requirement already satisfied: opentelemetry-api>=1.2.0 in /opt/conda/envs/python35-paddle120-env/lib/python3.10/site-packages (from chromadb<0.6.0,>=0.4.0->llama-index-vector-stores-chroma<0.2.0,>=0.1.6->spark_ai_python) (1.26.0)\n",
      "Requirement already satisfied: opentelemetry-exporter-otlp-proto-grpc>=1.2.0 in /opt/conda/envs/python35-paddle120-env/lib/python3.10/site-packages (from chromadb<0.6.0,>=0.4.0->llama-index-vector-stores-chroma<0.2.0,>=0.1.6->spark_ai_python) (1.26.0)\n",
      "Requirement already satisfied: opentelemetry-instrumentation-fastapi>=0.41b0 in /opt/conda/envs/python35-paddle120-env/lib/python3.10/site-packages (from chromadb<0.6.0,>=0.4.0->llama-index-vector-stores-chroma<0.2.0,>=0.1.6->spark_ai_python) (0.47b0)\n",
      "Requirement already satisfied: opentelemetry-sdk>=1.2.0 in /opt/conda/envs/python35-paddle120-env/lib/python3.10/site-packages (from chromadb<0.6.0,>=0.4.0->llama-index-vector-stores-chroma<0.2.0,>=0.1.6->spark_ai_python) (1.26.0)\n",
      "Requirement already satisfied: tokenizers>=0.13.2 in /opt/conda/envs/python35-paddle120-env/lib/python3.10/site-packages (from chromadb<0.6.0,>=0.4.0->llama-index-vector-stores-chroma<0.2.0,>=0.1.6->spark_ai_python) (0.20.0)\n",
      "Requirement already satisfied: pypika>=0.48.9 in /opt/conda/envs/python35-paddle120-env/lib/python3.10/site-packages (from chromadb<0.6.0,>=0.4.0->llama-index-vector-stores-chroma<0.2.0,>=0.1.6->spark_ai_python) (0.48.9)\n",
      "Requirement already satisfied: overrides>=7.3.1 in /opt/conda/envs/python35-paddle120-env/lib/python3.10/site-packages (from chromadb<0.6.0,>=0.4.0->llama-index-vector-stores-chroma<0.2.0,>=0.1.6->spark_ai_python) (7.7.0)\n",
      "Requirement already satisfied: importlib-resources in /opt/conda/envs/python35-paddle120-env/lib/python3.10/site-packages (from chromadb<0.6.0,>=0.4.0->llama-index-vector-stores-chroma<0.2.0,>=0.1.6->spark_ai_python) (6.4.0)\n",
      "Requirement already satisfied: grpcio>=1.58.0 in /opt/conda/envs/python35-paddle120-env/lib/python3.10/site-packages (from chromadb<0.6.0,>=0.4.0->llama-index-vector-stores-chroma<0.2.0,>=0.1.6->spark_ai_python) (1.65.4)\n",
      "Requirement already satisfied: bcrypt>=4.0.1 in /opt/conda/envs/python35-paddle120-env/lib/python3.10/site-packages (from chromadb<0.6.0,>=0.4.0->llama-index-vector-stores-chroma<0.2.0,>=0.1.6->spark_ai_python) (4.2.0)\n",
      "Requirement already satisfied: typer>=0.9.0 in /opt/conda/envs/python35-paddle120-env/lib/python3.10/site-packages (from chromadb<0.6.0,>=0.4.0->llama-index-vector-stores-chroma<0.2.0,>=0.1.6->spark_ai_python) (0.12.3)\n",
      "Requirement already satisfied: kubernetes>=28.1.0 in /opt/conda/envs/python35-paddle120-env/lib/python3.10/site-packages (from chromadb<0.6.0,>=0.4.0->llama-index-vector-stores-chroma<0.2.0,>=0.1.6->spark_ai_python) (30.1.0)\n",
      "Requirement already satisfied: mmh3>=4.0.1 in /opt/conda/envs/python35-paddle120-env/lib/python3.10/site-packages (from chromadb<0.6.0,>=0.4.0->llama-index-vector-stores-chroma<0.2.0,>=0.1.6->spark_ai_python) (4.1.0)\n",
      "Requirement already satisfied: orjson>=3.9.12 in /opt/conda/envs/python35-paddle120-env/lib/python3.10/site-packages (from chromadb<0.6.0,>=0.4.0->llama-index-vector-stores-chroma<0.2.0,>=0.1.6->spark_ai_python) (3.10.6)\n",
      "Requirement already satisfied: llama-cloud>=0.0.11 in /opt/conda/envs/python35-paddle120-env/lib/python3.10/site-packages (from llama-index-indices-managed-llama-cloud>=0.2.0->llama-index<0.11.0,>=0.10.24->spark_ai_python) (0.0.13)\n",
      "Requirement already satisfied: beautifulsoup4<5.0.0,>=4.12.3 in /opt/conda/envs/python35-paddle120-env/lib/python3.10/site-packages (from llama-index-readers-file<0.2.0,>=0.1.4->llama-index<0.11.0,>=0.10.24->spark_ai_python) (4.12.3)\n",
      "Requirement already satisfied: pypdf<5.0.0,>=4.0.1 in /opt/conda/envs/python35-paddle120-env/lib/python3.10/site-packages (from llama-index-readers-file<0.2.0,>=0.1.4->llama-index<0.11.0,>=0.10.24->spark_ai_python) (4.3.1)\n",
      "Requirement already satisfied: striprtf<0.0.27,>=0.0.26 in /opt/conda/envs/python35-paddle120-env/lib/python3.10/site-packages (from llama-index-readers-file<0.2.0,>=0.1.4->llama-index<0.11.0,>=0.10.24->spark_ai_python) (0.0.26)\n",
      "Requirement already satisfied: llama-parse>=0.4.0 in /opt/conda/envs/python35-paddle120-env/lib/python3.10/site-packages (from llama-index-readers-llama-parse>=0.1.2->llama-index<0.11.0,>=0.10.24->spark_ai_python) (0.4.9)\n",
      "Requirement already satisfied: exceptiongroup>=1.0.2 in /opt/conda/envs/python35-paddle120-env/lib/python3.10/site-packages (from anyio->httpx->spark_ai_python) (1.2.1)\n",
      "Requirement already satisfied: soupsieve>1.2 in /opt/conda/envs/python35-paddle120-env/lib/python3.10/site-packages (from beautifulsoup4<5.0.0,>=4.12.3->llama-index-readers-file<0.2.0,>=0.1.4->llama-index<0.11.0,>=0.10.24->spark_ai_python) (2.5)\n",
      "Requirement already satisfied: pyproject_hooks in /opt/conda/envs/python35-paddle120-env/lib/python3.10/site-packages (from build>=1.0.3->chromadb<0.6.0,>=0.4.0->llama-index-vector-stores-chroma<0.2.0,>=0.1.6->spark_ai_python) (1.1.0)\n",
      "Requirement already satisfied: tomli>=1.1.0 in /opt/conda/envs/python35-paddle120-env/lib/python3.10/site-packages (from build>=1.0.3->chromadb<0.6.0,>=0.4.0->llama-index-vector-stores-chroma<0.2.0,>=0.1.6->spark_ai_python) (2.0.1)\n",
      "Requirement already satisfied: starlette<0.38.0,>=0.37.2 in /opt/conda/envs/python35-paddle120-env/lib/python3.10/site-packages (from fastapi>=0.95.2->chromadb<0.6.0,>=0.4.0->llama-index-vector-stores-chroma<0.2.0,>=0.1.6->spark_ai_python) (0.37.2)\n",
      "Requirement already satisfied: fastapi-cli>=0.0.2 in /opt/conda/envs/python35-paddle120-env/lib/python3.10/site-packages (from fastapi>=0.95.2->chromadb<0.6.0,>=0.4.0->llama-index-vector-stores-chroma<0.2.0,>=0.1.6->spark_ai_python) (0.0.4)\n",
      "Requirement already satisfied: jinja2>=2.11.2 in /opt/conda/envs/python35-paddle120-env/lib/python3.10/site-packages (from fastapi>=0.95.2->chromadb<0.6.0,>=0.4.0->llama-index-vector-stores-chroma<0.2.0,>=0.1.6->spark_ai_python) (3.1.4)\n",
      "Requirement already satisfied: python-multipart>=0.0.7 in /opt/conda/envs/python35-paddle120-env/lib/python3.10/site-packages (from fastapi>=0.95.2->chromadb<0.6.0,>=0.4.0->llama-index-vector-stores-chroma<0.2.0,>=0.1.6->spark_ai_python) (0.0.9)\n",
      "Requirement already satisfied: ujson!=4.0.2,!=4.1.0,!=4.2.0,!=4.3.0,!=5.0.0,!=5.1.0,>=4.0.1 in /opt/conda/envs/python35-paddle120-env/lib/python3.10/site-packages (from fastapi>=0.95.2->chromadb<0.6.0,>=0.4.0->llama-index-vector-stores-chroma<0.2.0,>=0.1.6->spark_ai_python) (5.10.0)\n",
      "Requirement already satisfied: email_validator>=2.0.0 in /opt/conda/envs/python35-paddle120-env/lib/python3.10/site-packages (from fastapi>=0.95.2->chromadb<0.6.0,>=0.4.0->llama-index-vector-stores-chroma<0.2.0,>=0.1.6->spark_ai_python) (2.2.0)\n",
      "Requirement already satisfied: six>=1.9.0 in /opt/conda/envs/python35-paddle120-env/lib/python3.10/site-packages (from kubernetes>=28.1.0->chromadb<0.6.0,>=0.4.0->llama-index-vector-stores-chroma<0.2.0,>=0.1.6->spark_ai_python) (1.16.0)\n",
      "Requirement already satisfied: python-dateutil>=2.5.3 in /opt/conda/envs/python35-paddle120-env/lib/python3.10/site-packages (from kubernetes>=28.1.0->chromadb<0.6.0,>=0.4.0->llama-index-vector-stores-chroma<0.2.0,>=0.1.6->spark_ai_python) (2.9.0.post0)\n",
      "Requirement already satisfied: google-auth>=1.0.1 in /opt/conda/envs/python35-paddle120-env/lib/python3.10/site-packages (from kubernetes>=28.1.0->chromadb<0.6.0,>=0.4.0->llama-index-vector-stores-chroma<0.2.0,>=0.1.6->spark_ai_python) (2.33.0)\n",
      "Requirement already satisfied: requests-oauthlib in /opt/conda/envs/python35-paddle120-env/lib/python3.10/site-packages (from kubernetes>=28.1.0->chromadb<0.6.0,>=0.4.0->llama-index-vector-stores-chroma<0.2.0,>=0.1.6->spark_ai_python) (2.0.0)\n",
      "Requirement already satisfied: oauthlib>=3.2.2 in /opt/conda/envs/python35-paddle120-env/lib/python3.10/site-packages (from kubernetes>=28.1.0->chromadb<0.6.0,>=0.4.0->llama-index-vector-stores-chroma<0.2.0,>=0.1.6->spark_ai_python) (3.2.2)\n",
      "Requirement already satisfied: click in /opt/conda/envs/python35-paddle120-env/lib/python3.10/site-packages (from nltk<4.0.0,>=3.8.1->llama-index-core==0.10.63->llama-index<0.11.0,>=0.10.24->spark_ai_python) (8.1.7)\n",
      "Requirement already satisfied: joblib in /opt/conda/envs/python35-paddle120-env/lib/python3.10/site-packages (from nltk<4.0.0,>=3.8.1->llama-index-core==0.10.63->llama-index<0.11.0,>=0.10.24->spark_ai_python) (1.4.2)\n",
      "Requirement already satisfied: regex>=2021.8.3 in /opt/conda/envs/python35-paddle120-env/lib/python3.10/site-packages (from nltk<4.0.0,>=3.8.1->llama-index-core==0.10.63->llama-index<0.11.0,>=0.10.24->spark_ai_python) (2024.5.15)\n",
      "Requirement already satisfied: coloredlogs in /opt/conda/envs/python35-paddle120-env/lib/python3.10/site-packages (from onnxruntime>=1.14.1->chromadb<0.6.0,>=0.4.0->llama-index-vector-stores-chroma<0.2.0,>=0.1.6->spark_ai_python) (15.0.1)\n",
      "Requirement already satisfied: flatbuffers in /opt/conda/envs/python35-paddle120-env/lib/python3.10/site-packages (from onnxruntime>=1.14.1->chromadb<0.6.0,>=0.4.0->llama-index-vector-stores-chroma<0.2.0,>=0.1.6->spark_ai_python) (24.3.25)\n",
      "Requirement already satisfied: protobuf in /opt/conda/envs/python35-paddle120-env/lib/python3.10/site-packages (from onnxruntime>=1.14.1->chromadb<0.6.0,>=0.4.0->llama-index-vector-stores-chroma<0.2.0,>=0.1.6->spark_ai_python) (3.20.3)\n",
      "Requirement already satisfied: sympy in /opt/conda/envs/python35-paddle120-env/lib/python3.10/site-packages (from onnxruntime>=1.14.1->chromadb<0.6.0,>=0.4.0->llama-index-vector-stores-chroma<0.2.0,>=0.1.6->spark_ai_python) (1.12.1)\n",
      "Requirement already satisfied: distro<2,>=1.7.0 in /opt/conda/envs/python35-paddle120-env/lib/python3.10/site-packages (from openai>=1.1.0->llama-index-core==0.10.63->llama-index<0.11.0,>=0.10.24->spark_ai_python) (1.9.0)\n",
      "Requirement already satisfied: jiter<1,>=0.4.0 in /opt/conda/envs/python35-paddle120-env/lib/python3.10/site-packages (from openai>=1.1.0->llama-index-core==0.10.63->llama-index<0.11.0,>=0.10.24->spark_ai_python) (0.5.0)\n",
      "Requirement already satisfied: importlib-metadata<=8.0.0,>=6.0 in /opt/conda/envs/python35-paddle120-env/lib/python3.10/site-packages (from opentelemetry-api>=1.2.0->chromadb<0.6.0,>=0.4.0->llama-index-vector-stores-chroma<0.2.0,>=0.1.6->spark_ai_python) (8.0.0)\n",
      "Requirement already satisfied: googleapis-common-protos~=1.52 in /opt/conda/envs/python35-paddle120-env/lib/python3.10/site-packages (from opentelemetry-exporter-otlp-proto-grpc>=1.2.0->chromadb<0.6.0,>=0.4.0->llama-index-vector-stores-chroma<0.2.0,>=0.1.6->spark_ai_python) (1.63.2)\n",
      "Requirement already satisfied: opentelemetry-exporter-otlp-proto-common==1.26.0 in /opt/conda/envs/python35-paddle120-env/lib/python3.10/site-packages (from opentelemetry-exporter-otlp-proto-grpc>=1.2.0->chromadb<0.6.0,>=0.4.0->llama-index-vector-stores-chroma<0.2.0,>=0.1.6->spark_ai_python) (1.26.0)\n",
      "Requirement already satisfied: opentelemetry-proto==1.26.0 in /opt/conda/envs/python35-paddle120-env/lib/python3.10/site-packages (from opentelemetry-exporter-otlp-proto-grpc>=1.2.0->chromadb<0.6.0,>=0.4.0->llama-index-vector-stores-chroma<0.2.0,>=0.1.6->spark_ai_python) (1.26.0)\n",
      "Requirement already satisfied: opentelemetry-instrumentation-asgi==0.47b0 in /opt/conda/envs/python35-paddle120-env/lib/python3.10/site-packages (from opentelemetry-instrumentation-fastapi>=0.41b0->chromadb<0.6.0,>=0.4.0->llama-index-vector-stores-chroma<0.2.0,>=0.1.6->spark_ai_python) (0.47b0)\n",
      "Requirement already satisfied: opentelemetry-instrumentation==0.47b0 in /opt/conda/envs/python35-paddle120-env/lib/python3.10/site-packages (from opentelemetry-instrumentation-fastapi>=0.41b0->chromadb<0.6.0,>=0.4.0->llama-index-vector-stores-chroma<0.2.0,>=0.1.6->spark_ai_python) (0.47b0)\n",
      "Requirement already satisfied: opentelemetry-semantic-conventions==0.47b0 in /opt/conda/envs/python35-paddle120-env/lib/python3.10/site-packages (from opentelemetry-instrumentation-fastapi>=0.41b0->chromadb<0.6.0,>=0.4.0->llama-index-vector-stores-chroma<0.2.0,>=0.1.6->spark_ai_python) (0.47b0)\n",
      "Requirement already satisfied: opentelemetry-util-http==0.47b0 in /opt/conda/envs/python35-paddle120-env/lib/python3.10/site-packages (from opentelemetry-instrumentation-fastapi>=0.41b0->chromadb<0.6.0,>=0.4.0->llama-index-vector-stores-chroma<0.2.0,>=0.1.6->spark_ai_python) (0.47b0)\n",
      "Requirement already satisfied: setuptools>=16.0 in /opt/conda/envs/python35-paddle120-env/lib/python3.10/site-packages (from opentelemetry-instrumentation==0.47b0->opentelemetry-instrumentation-fastapi>=0.41b0->chromadb<0.6.0,>=0.4.0->llama-index-vector-stores-chroma<0.2.0,>=0.1.6->spark_ai_python) (69.5.1)\n",
      "Requirement already satisfied: asgiref~=3.0 in /opt/conda/envs/python35-paddle120-env/lib/python3.10/site-packages (from opentelemetry-instrumentation-asgi==0.47b0->opentelemetry-instrumentation-fastapi>=0.41b0->chromadb<0.6.0,>=0.4.0->llama-index-vector-stores-chroma<0.2.0,>=0.1.6->spark_ai_python) (3.8.1)\n",
      "Requirement already satisfied: monotonic>=1.5 in /opt/conda/envs/python35-paddle120-env/lib/python3.10/site-packages (from posthog>=2.4.0->chromadb<0.6.0,>=0.4.0->llama-index-vector-stores-chroma<0.2.0,>=0.1.6->spark_ai_python) (1.6)\n",
      "Requirement already satisfied: backoff>=1.10.0 in /opt/conda/envs/python35-paddle120-env/lib/python3.10/site-packages (from posthog>=2.4.0->chromadb<0.6.0,>=0.4.0->llama-index-vector-stores-chroma<0.2.0,>=0.1.6->spark_ai_python) (2.2.1)\n",
      "Requirement already satisfied: greenlet!=0.4.17 in /opt/conda/envs/python35-paddle120-env/lib/python3.10/site-packages (from SQLAlchemy>=1.4.49->SQLAlchemy[asyncio]>=1.4.49->llama-index-core==0.10.63->llama-index<0.11.0,>=0.10.24->spark_ai_python) (3.0.3)\n",
      "Requirement already satisfied: huggingface-hub<1.0,>=0.16.4 in /opt/conda/envs/python35-paddle120-env/lib/python3.10/site-packages (from tokenizers>=0.13.2->chromadb<0.6.0,>=0.4.0->llama-index-vector-stores-chroma<0.2.0,>=0.1.6->spark_ai_python) (0.23.4)\n",
      "Requirement already satisfied: shellingham>=1.3.0 in /opt/conda/envs/python35-paddle120-env/lib/python3.10/site-packages (from typer>=0.9.0->chromadb<0.6.0,>=0.4.0->llama-index-vector-stores-chroma<0.2.0,>=0.1.6->spark_ai_python) (1.5.4)\n",
      "Requirement already satisfied: rich>=10.11.0 in /opt/conda/envs/python35-paddle120-env/lib/python3.10/site-packages (from typer>=0.9.0->chromadb<0.6.0,>=0.4.0->llama-index-vector-stores-chroma<0.2.0,>=0.1.6->spark_ai_python) (13.7.1)\n",
      "Requirement already satisfied: mypy-extensions>=0.3.0 in /opt/conda/envs/python35-paddle120-env/lib/python3.10/site-packages (from typing-inspect>=0.8.0->llama-index-core==0.10.63->llama-index<0.11.0,>=0.10.24->spark_ai_python) (1.0.0)\n",
      "Requirement already satisfied: httptools>=0.5.0 in /opt/conda/envs/python35-paddle120-env/lib/python3.10/site-packages (from uvicorn[standard]>=0.18.3->chromadb<0.6.0,>=0.4.0->llama-index-vector-stores-chroma<0.2.0,>=0.1.6->spark_ai_python) (0.6.1)\n",
      "Requirement already satisfied: uvloop!=0.15.0,!=0.15.1,>=0.14.0 in /opt/conda/envs/python35-paddle120-env/lib/python3.10/site-packages (from uvicorn[standard]>=0.18.3->chromadb<0.6.0,>=0.4.0->llama-index-vector-stores-chroma<0.2.0,>=0.1.6->spark_ai_python) (0.19.0)\n",
      "Requirement already satisfied: watchfiles>=0.13 in /opt/conda/envs/python35-paddle120-env/lib/python3.10/site-packages (from uvicorn[standard]>=0.18.3->chromadb<0.6.0,>=0.4.0->llama-index-vector-stores-chroma<0.2.0,>=0.1.6->spark_ai_python) (0.22.0)\n",
      "Requirement already satisfied: marshmallow<4.0.0,>=3.18.0 in /opt/conda/envs/python35-paddle120-env/lib/python3.10/site-packages (from dataclasses-json->llama-index-core==0.10.63->llama-index<0.11.0,>=0.10.24->spark_ai_python) (3.21.3)\n",
      "Requirement already satisfied: pytz>=2020.1 in /opt/conda/envs/python35-paddle120-env/lib/python3.10/site-packages (from pandas->llama-index-core==0.10.63->llama-index<0.11.0,>=0.10.24->spark_ai_python) (2024.1)\n",
      "Requirement already satisfied: tzdata>=2022.7 in /opt/conda/envs/python35-paddle120-env/lib/python3.10/site-packages (from pandas->llama-index-core==0.10.63->llama-index<0.11.0,>=0.10.24->spark_ai_python) (2024.1)\n",
      "Requirement already satisfied: dnspython>=2.0.0 in /opt/conda/envs/python35-paddle120-env/lib/python3.10/site-packages (from email_validator>=2.0.0->fastapi>=0.95.2->chromadb<0.6.0,>=0.4.0->llama-index-vector-stores-chroma<0.2.0,>=0.1.6->spark_ai_python) (2.6.1)\n",
      "Requirement already satisfied: cachetools<6.0,>=2.0.0 in /opt/conda/envs/python35-paddle120-env/lib/python3.10/site-packages (from google-auth>=1.0.1->kubernetes>=28.1.0->chromadb<0.6.0,>=0.4.0->llama-index-vector-stores-chroma<0.2.0,>=0.1.6->spark_ai_python) (5.3.3)\n",
      "Requirement already satisfied: pyasn1-modules>=0.2.1 in /opt/conda/envs/python35-paddle120-env/lib/python3.10/site-packages (from google-auth>=1.0.1->kubernetes>=28.1.0->chromadb<0.6.0,>=0.4.0->llama-index-vector-stores-chroma<0.2.0,>=0.1.6->spark_ai_python) (0.4.0)\n",
      "Requirement already satisfied: rsa<5,>=3.1.4 in /opt/conda/envs/python35-paddle120-env/lib/python3.10/site-packages (from google-auth>=1.0.1->kubernetes>=28.1.0->chromadb<0.6.0,>=0.4.0->llama-index-vector-stores-chroma<0.2.0,>=0.1.6->spark_ai_python) (4.9)\n",
      "Requirement already satisfied: filelock in /opt/conda/envs/python35-paddle120-env/lib/python3.10/site-packages (from huggingface-hub<1.0,>=0.16.4->tokenizers>=0.13.2->chromadb<0.6.0,>=0.4.0->llama-index-vector-stores-chroma<0.2.0,>=0.1.6->spark_ai_python) (3.15.4)\n",
      "Requirement already satisfied: zipp>=0.5 in /opt/conda/envs/python35-paddle120-env/lib/python3.10/site-packages (from importlib-metadata<=8.0.0,>=6.0->opentelemetry-api>=1.2.0->chromadb<0.6.0,>=0.4.0->llama-index-vector-stores-chroma<0.2.0,>=0.1.6->spark_ai_python) (3.19.2)\n",
      "Requirement already satisfied: MarkupSafe>=2.0 in /opt/conda/envs/python35-paddle120-env/lib/python3.10/site-packages (from jinja2>=2.11.2->fastapi>=0.95.2->chromadb<0.6.0,>=0.4.0->llama-index-vector-stores-chroma<0.2.0,>=0.1.6->spark_ai_python) (2.1.5)\n",
      "Requirement already satisfied: markdown-it-py>=2.2.0 in /opt/conda/envs/python35-paddle120-env/lib/python3.10/site-packages (from rich>=10.11.0->typer>=0.9.0->chromadb<0.6.0,>=0.4.0->llama-index-vector-stores-chroma<0.2.0,>=0.1.6->spark_ai_python) (2.2.0)\n",
      "Requirement already satisfied: pygments<3.0.0,>=2.13.0 in /opt/conda/envs/python35-paddle120-env/lib/python3.10/site-packages (from rich>=10.11.0->typer>=0.9.0->chromadb<0.6.0,>=0.4.0->llama-index-vector-stores-chroma<0.2.0,>=0.1.6->spark_ai_python) (2.18.0)\n",
      "Requirement already satisfied: humanfriendly>=9.1 in /opt/conda/envs/python35-paddle120-env/lib/python3.10/site-packages (from coloredlogs->onnxruntime>=1.14.1->chromadb<0.6.0,>=0.4.0->llama-index-vector-stores-chroma<0.2.0,>=0.1.6->spark_ai_python) (10.0)\n",
      "Requirement already satisfied: mpmath<1.4.0,>=1.1.0 in /opt/conda/envs/python35-paddle120-env/lib/python3.10/site-packages (from sympy->onnxruntime>=1.14.1->chromadb<0.6.0,>=0.4.0->llama-index-vector-stores-chroma<0.2.0,>=0.1.6->spark_ai_python) (1.3.0)\n",
      "Requirement already satisfied: mdurl~=0.1 in /opt/conda/envs/python35-paddle120-env/lib/python3.10/site-packages (from markdown-it-py>=2.2.0->rich>=10.11.0->typer>=0.9.0->chromadb<0.6.0,>=0.4.0->llama-index-vector-stores-chroma<0.2.0,>=0.1.6->spark_ai_python) (0.1.2)\n",
      "Requirement already satisfied: pyasn1<0.7.0,>=0.4.6 in /opt/conda/envs/python35-paddle120-env/lib/python3.10/site-packages (from pyasn1-modules>=0.2.1->google-auth>=1.0.1->kubernetes>=28.1.0->chromadb<0.6.0,>=0.4.0->llama-index-vector-stores-chroma<0.2.0,>=0.1.6->spark_ai_python) (0.6.0)\n"
     ]
    }
   ],
   "source": [
    "!pip install --upgrade spark_ai_python"
   ]
  },
  {
   "cell_type": "code",
   "execution_count": 23,
   "metadata": {
    "execution": {
     "iopub.execute_input": "2024-08-08T09:04:23.909303Z",
     "iopub.status.busy": "2024-08-08T09:04:23.907765Z",
     "iopub.status.idle": "2024-08-08T09:04:24.000952Z",
     "shell.execute_reply": "2024-08-08T09:04:23.999795Z",
     "shell.execute_reply.started": "2024-08-08T09:04:23.909256Z"
    },
    "scrolled": true,
    "tags": []
   },
   "outputs": [],
   "source": [
    "prompt = {\"input\": \"\\n    你是⼀个⾼考选择题出题专家，你出的题有⼀定深度，你将根据阅读文本，出4道单项选择题，包含题目选项，以及对应的答案，注意：不⽤给出原文，每道题由1个问题和4个选项组成，仅存在1个正确答案，请严格按照要求执行。\\nThe reading text is mainly in English. The questions and answers you raised need to be completed in English for at least the following points:\\n    \\n    ### 回答要求\\n    (1)Understanding the main idea of the main idea.\\n    (2)Understand the specific information in the text.\\n    (3)infering the meaning of words and phrases from the context\\n    \\n    \\n    ### 阅读文本\\n    Bike Rental & Guided Tours Welcome to Amsterdam, welcome to MacBike. You see much more from the seat of a bike! Cycling is the most\\neconomical, sustainable and fun way to explore the city, with its beautiful canals, parks, squares and countless lights.\\nYou can also bike along lovely landscapes outside of Amsterdam.\\nWhy MacBike MacBike has been around for almost 30 years and is the biggest bicycle rental company in Amsterdam. With over 2,500 bikes stored in our five rental shops at strategic locations, we make sure there is always a bike available for you. We offer the newest bicycles in a wide variety, including basic bikes with foot brake (AU 4), bikes with hand\\nbrake and gears (HI-I'4), bikes with child seats, and children's bikes.                                                                       Price: 1 hour, 3 hours, 1 day(24hours), Each additional day                                                                                          Hand Brake, Three Gears: €7.50, €11.00, €14.75, €8.00                                                       Foot Brake, No Gears: €5.00, €7.50, €9.75, €6.00                     The 2.5-hour tour covers the Gooyer Windmill, the Skinny Bridge, the Rijksmuseum, Heineken Brewery and much more. The tour departs from D.m Square every hour on the hour, starting at 1:00 pm every day. You can buy\\nyour ticket in a MacBike shop or book online.\\n    \", \"output\": \"\\n                1. What is an advantage of MacBike?\\n                A. It gives children a discount.\\n                B. It of offers many types of bikes.\\n                C. It organizes free cycle tours.\\n                D. It has over 2,500 rental shops.\\n                answer:B\\n                \\n\\n                2. How much do you pay for renting a bike with hand brake and three gears for two days?\\n                A. €15.75.\\n                B. €19.50.\\n                C. €22.75.\\n                D. €29.50.\\n                answer:D\\n                \\n\\n                3. Where does the guided city tour start?\\n                A. The Gooyer, Windmill.\\n                B. The Skinny Bridge.\\n                C. Heineken Brewery.\\n                D. D.m Square.\\n                answer:D\\n                \\n\"}\n",
    "prompt = prompt['input']"
   ]
  },
  {
   "cell_type": "markdown",
   "metadata": {},
   "source": [
    "![./data/p1.png](./p1.png)"
   ]
  },
  {
   "cell_type": "code",
   "execution_count": 24,
   "metadata": {
    "execution": {
     "iopub.execute_input": "2024-08-08T09:06:50.724244Z",
     "iopub.status.busy": "2024-08-08T09:06:50.723022Z",
     "iopub.status.idle": "2024-08-08T09:06:58.641737Z",
     "shell.execute_reply": "2024-08-08T09:06:58.640734Z",
     "shell.execute_reply.started": "2024-08-08T09:06:50.724176Z"
    },
    "scrolled": true
   },
   "outputs": [
    {
     "name": "stdout",
     "output_type": "stream",
     "text": [
      "What is the best way to explore Amsterdam?\n",
      "\n",
      "A. By car.\n",
      "B. By foot.\n",
      "C. By bike.\n",
      "D. By boat.\n",
      "\n",
      "答案：C. By bike.\n"
     ]
    }
   ],
   "source": [
    "from sparkai.llm.llm import ChatSparkLLM, ChunkPrintHandler\n",
    "from sparkai.core.messages import ChatMessage\n",
    "\n",
    "SPARKAI_URL = 'wss://xingchen-api.cn-huabei-1.xf-yun.com/v1.1/chat'\n",
    "#星火认知大模型调用秘钥信息，请结合飞书文档，前往讯飞微调控制台（https://training.xfyun.cn/modelService）查看\n",
    "SPARKAI_APP_ID = '2b333cbc'\n",
    "SPARKAI_API_SECRET = 'MGM5MWY4N2ZkYWU2YTEzYTVmNDI1YmM3'\n",
    "SPARKAI_API_KEY = 'db4b0a31965c63c2ffac36949df2232d'\n",
    "serviceId = 'xspark13b6k'  \n",
    "resourceId = '3302647518568448'\n",
    "\n",
    "if __name__ == '__main__':\n",
    "    spark = ChatSparkLLM(\n",
    "        spark_api_url=SPARKAI_URL,\n",
    "        spark_app_id=SPARKAI_APP_ID,\n",
    "        spark_api_key=SPARKAI_API_KEY,\n",
    "        spark_api_secret=SPARKAI_API_SECRET,\n",
    "        spark_llm_domain=serviceId,\n",
    "        model_kwargs={\"patch_id\": resourceId},\n",
    "        streaming=False,\n",
    "    )\n",
    "    messages = [ChatMessage(\n",
    "        role=\"user\",\n",
    "        content=prompt\n",
    "    )]\n",
    "    handler = ChunkPrintHandler()\n",
    "    a = spark.generate([messages], callbacks=[handler])\n",
    "    print(a.generations[0][0].text)"
   ]
  },
  {
   "cell_type": "markdown",
   "metadata": {},
   "source": [
    "# 4.模型提交"
   ]
  },
  {
   "cell_type": "markdown",
   "metadata": {},
   "source": [
    "### 这里测试就结束啦，到飞书看看怎么提交吧~"
   ]
  }
 ],
 "metadata": {
  "kernelspec": {
   "display_name": "Python 3.10.10 ('python35-paddle120-env')",
   "language": "python",
   "name": "python3"
  },
  "language_info": {
   "codemirror_mode": {
    "name": "ipython",
    "version": 3
   },
   "file_extension": ".py",
   "mimetype": "text/x-python",
   "name": "python",
   "nbconvert_exporter": "python",
   "pygments_lexer": "ipython3",
   "version": "3.10.10"
  },
  "vscode": {
   "interpreter": {
    "hash": "09f0dbf7b1569c1ab842ae2f41770fe6aa1b54326d081112fa5944b99abb5899"
   }
  }
 },
 "nbformat": 4,
 "nbformat_minor": 4
}
